{
 "cells": [
  {
   "cell_type": "code",
   "execution_count": 39,
   "metadata": {},
   "outputs": [],
   "source": [
    "from sklearn.datasets import load_iris\n",
    "from sklearn.model_selection import train_test_split\n",
    "from sklearn.ensemble import VotingClassifier\n",
    "from sklearn.svm import SVC\n",
    "from sklearn.ensemble import RandomForestClassifier\n",
    "from sklearn.linear_model import LogisticRegression\n",
    "from sklearn.metrics import accuracy_score\n",
    "from sklearn.utils import resample\n",
    "from sklearn.metrics import classification_report, confusion_matrix\n",
    "from sklearn.metrics import roc_auc_score, precision_score, recall_score, log_loss, accuracy_score\n",
    "from sklearn.metrics import RocCurveDisplay\n",
    "from sklearn.tree import DecisionTreeClassifier"
   ]
  },
  {
   "cell_type": "markdown",
   "metadata": {},
   "source": [
    "Dataset"
   ]
  },
  {
   "cell_type": "code",
   "execution_count": 57,
   "metadata": {},
   "outputs": [],
   "source": [
    "iris = load_iris()\n",
    "X, y = iris.data, iris.target\n",
    "\n",
    "X_train, X_test, y_train, y_test = train_test_split(X, y, test_size=0.4, random_state=42)"
   ]
  },
  {
   "cell_type": "markdown",
   "metadata": {},
   "source": [
    "Models"
   ]
  },
  {
   "cell_type": "code",
   "execution_count": 58,
   "metadata": {},
   "outputs": [],
   "source": [
    "svm_clf = SVC(kernel='poly', probability=True, degree=3)\n",
    "rf_clf = RandomForestClassifier(n_estimators=100, random_state=42)\n",
    "lr_clf = LogisticRegression(max_iter=1000)"
   ]
  },
  {
   "cell_type": "markdown",
   "metadata": {},
   "source": [
    "Train models in sampled data"
   ]
  },
  {
   "cell_type": "code",
   "execution_count": 68,
   "metadata": {},
   "outputs": [],
   "source": [
    "X_train_subsets = []\n",
    "y_train_subsets = []\n",
    "for _ in range(3):  # тренуємо 3 моделі\n",
    "    X_subset, y_subset = resample(X_train, y_train, n_samples=len(X_train), random_state=42, stratify=y_train)\n",
    "    X_train_subsets.append(X_subset)\n",
    "    y_train_subsets.append(y_subset)"
   ]
  },
  {
   "cell_type": "code",
   "execution_count": 60,
   "metadata": {},
   "outputs": [],
   "source": [
    "for i in range(3):\n",
    "    if i == 0:\n",
    "        svm_clf.fit(X_train_subsets[i], y_train_subsets[i])\n",
    "    elif i == 1:\n",
    "        rf_clf.fit(X_train_subsets[i], y_train_subsets[i])\n",
    "    elif i == 2:\n",
    "        lr_clf.fit(X_train_subsets[i], y_train_subsets[i])"
   ]
  },
  {
   "cell_type": "code",
   "execution_count": 61,
   "metadata": {},
   "outputs": [],
   "source": [
    "voting_clf = VotingClassifier(estimators=[('svm', svm_clf), ('rf', rf_clf), ('lr', lr_clf)], voting='hard')"
   ]
  },
  {
   "cell_type": "code",
   "execution_count": 62,
   "metadata": {},
   "outputs": [],
   "source": [
    "voting_clf.fit(X_train, y_train)\n",
    "y_pred = voting_clf.predict(X_test)\n",
    "\n",
    "accuracy = accuracy_score(y_test, y_pred)\n",
    "conf_matrix = confusion_matrix(y_test, y_pred)\n",
    "classification_report = classification_report(y_test, y_pred)\n",
    "score = voting_clf.score(X_test, y_test)"
   ]
  },
  {
   "cell_type": "code",
   "execution_count": 63,
   "metadata": {},
   "outputs": [
    {
     "name": "stdout",
     "output_type": "stream",
     "text": [
      "VotingClassifier accuracy: 1.0\n",
      "VotingClassifier Score: 1.0\n",
      "VotingClassifier Confusion Matrix:\n",
      "[[23  0  0]\n",
      " [ 0 19  0]\n",
      " [ 0  0 18]]\n",
      "VotingClassifier Classification Report:\n",
      "              precision    recall  f1-score   support\n",
      "\n",
      "           0       1.00      1.00      1.00        23\n",
      "           1       1.00      1.00      1.00        19\n",
      "           2       1.00      1.00      1.00        18\n",
      "\n",
      "    accuracy                           1.00        60\n",
      "   macro avg       1.00      1.00      1.00        60\n",
      "weighted avg       1.00      1.00      1.00        60\n",
      "\n"
     ]
    }
   ],
   "source": [
    "print(\"VotingClassifier accuracy:\", accuracy)\n",
    "print(\"VotingClassifier Score:\", score) \n",
    "print(\"VotingClassifier Confusion Matrix:\")\n",
    "print(conf_matrix)\n",
    "print(\"VotingClassifier Classification Report:\")\n",
    "print(classification_report)"
   ]
  },
  {
   "cell_type": "code",
   "execution_count": 64,
   "metadata": {},
   "outputs": [
    {
     "data": {
      "text/plain": [
       "0.9833333333333333"
      ]
     },
     "execution_count": 64,
     "metadata": {},
     "output_type": "execute_result"
    }
   ],
   "source": [
    "y_pred1 = svm_clf.predict(X_test)\n",
    "\n",
    "accuracy_score(y_test, y_pred1)"
   ]
  },
  {
   "cell_type": "code",
   "execution_count": 65,
   "metadata": {},
   "outputs": [
    {
     "data": {
      "text/plain": [
       "0.9833333333333333"
      ]
     },
     "execution_count": 65,
     "metadata": {},
     "output_type": "execute_result"
    }
   ],
   "source": [
    "y_pred2 = rf_clf.predict(X_test)\n",
    "\n",
    "accuracy_score(y_test, y_pred2)"
   ]
  },
  {
   "cell_type": "code",
   "execution_count": 66,
   "metadata": {},
   "outputs": [
    {
     "data": {
      "text/plain": [
       "0.9833333333333333"
      ]
     },
     "execution_count": 66,
     "metadata": {},
     "output_type": "execute_result"
    }
   ],
   "source": [
    "y_pred3 = lr_clf.predict(X_test)\n",
    "\n",
    "accuracy_score(y_test, y_pred3)"
   ]
  },
  {
   "cell_type": "markdown",
   "metadata": {},
   "source": [
    "Make them binary"
   ]
  },
  {
   "cell_type": "code",
   "execution_count": 74,
   "metadata": {},
   "outputs": [],
   "source": [
    "dfi = load_iris()"
   ]
  },
  {
   "cell_type": "code",
   "execution_count": 76,
   "metadata": {},
   "outputs": [],
   "source": [
    "X = dfi.data\n",
    "y = dfi.target"
   ]
  },
  {
   "cell_type": "code",
   "execution_count": 79,
   "metadata": {},
   "outputs": [],
   "source": [
    "from collections import Counter\n",
    "\n",
    "\n",
    "def ensemble_predict(models, X):\n",
    "    predictions = []\n",
    "\n",
    "    for model in models:\n",
    "        y_pred_proba = model.predict(X)\n",
    "        predictions.append(y_pred_proba)\n",
    "        \n",
    "    transformed = []\n",
    "    \n",
    "    for subarray in list(zip(*predictions)):\n",
    "        \n",
    "        element_counts = Counter(subarray)\n",
    "        most_common_element = max(element_counts, key=element_counts.get)\n",
    "        transformed.append(most_common_element)\n",
    "        \n",
    "    return transformed"
   ]
  },
  {
   "cell_type": "code",
   "execution_count": 85,
   "metadata": {},
   "outputs": [],
   "source": [
    "X_train, X_test, y_train, y_test = train_test_split(X, y, test_size=0.4)\n",
    "\n",
    "class_names = [0, 1, 2]\n",
    "class_pairs = [(class_names[i], class_names[j]) for i in range(len(class_names)) for j in range(i+1, len(class_names))]\n",
    "\n",
    "models = []\n",
    "\n",
    "for i, class_pair in enumerate(class_pairs):\n",
    "    class_1, class_2 = class_pair\n",
    "    X_train_pair = X_train[(y_train == class_1) | (y_train == class_2)]\n",
    "    y_train_pair = y_train[(y_train == class_1) | (y_train == class_2)]\n",
    "\n",
    "    if i == 0:\n",
    "        svm_clf = SVC(kernel='linear', probability=True)\n",
    "        svm_clf.fit(X_train_pair, y_train_pair)\n",
    "        models.append(svm_clf)\n",
    "    elif i == 1:\n",
    "        rf_clf = RandomForestClassifier(n_estimators=100, random_state=42)\n",
    "        rf_clf.fit(X_train_pair, y_train_pair)\n",
    "        models.append(rf_clf)\n",
    "    elif i == 2:\n",
    "        lr_clf = LogisticRegression(max_iter=1000)\n",
    "        lr_clf.fit(X_train_pair, y_train_pair)\n",
    "        models.append(lr_clf)\n"
   ]
  },
  {
   "cell_type": "code",
   "execution_count": 86,
   "metadata": {},
   "outputs": [
    {
     "data": {
      "text/plain": [
       "0.9333333333333333"
      ]
     },
     "execution_count": 86,
     "metadata": {},
     "output_type": "execute_result"
    }
   ],
   "source": [
    "accuracy_score(ensemble_predict(models, X_test), y_test)"
   ]
  },
  {
   "cell_type": "markdown",
   "metadata": {},
   "source": [
    "Meta-model"
   ]
  },
  {
   "cell_type": "code",
   "execution_count": 104,
   "metadata": {},
   "outputs": [],
   "source": [
    "from collections import Counter\n",
    "\n",
    "\n",
    "def ensemble_predictions(models, X):\n",
    "    predictions = []\n",
    "\n",
    "    for model in models:\n",
    "        y_pred_proba = model.predict(X)\n",
    "        predictions.append(y_pred_proba)\n",
    "        \n",
    "    return predictions"
   ]
  },
  {
   "cell_type": "code",
   "execution_count": 91,
   "metadata": {},
   "outputs": [],
   "source": [
    "X_train, X_test, y_train, y_test = train_test_split(X, y, test_size=0.4)\n",
    "\n",
    "class_names = [0, 1, 2]\n",
    "class_pairs = [(class_names[i], class_names[j]) for i in range(len(class_names)) for j in range(i+1, len(class_names))]\n",
    "\n",
    "models = []\n",
    "\n",
    "for i, class_pair in enumerate(class_pairs):\n",
    "    class_1, class_2 = class_pair\n",
    "    X_train_pair = X_train[(y_train == class_1) | (y_train == class_2)]\n",
    "    y_train_pair = y_train[(y_train == class_1) | (y_train == class_2)]\n",
    "\n",
    "    if i == 0:\n",
    "        svm_clf = SVC(kernel='linear', probability=True)\n",
    "        svm_clf.fit(X_train_pair, y_train_pair)\n",
    "        models.append(svm_clf)\n",
    "    elif i == 1:\n",
    "        rf_clf = RandomForestClassifier(n_estimators=100, random_state=42)\n",
    "        rf_clf.fit(X_train_pair, y_train_pair)\n",
    "        models.append(rf_clf)\n",
    "    elif i == 2:\n",
    "        lr_clf = LogisticRegression(max_iter=1000)\n",
    "        lr_clf.fit(X_train_pair, y_train_pair)\n",
    "        models.append(lr_clf)\n"
   ]
  },
  {
   "cell_type": "code",
   "execution_count": 113,
   "metadata": {},
   "outputs": [],
   "source": [
    "from sklearn.ensemble import AdaBoostClassifier\n",
    "import numpy as np\n",
    "\n",
    "\n",
    "X_train, X_test, y_train, y_test = train_test_split(X, y, test_size=0.4)\n",
    "\n",
    "ens_x = np.array( ensemble_predictions(models, X_train) ).T\n",
    "ens_y = np.array(y_train)\n",
    "\n"
   ]
  },
  {
   "cell_type": "code",
   "execution_count": 114,
   "metadata": {},
   "outputs": [
    {
     "data": {
      "text/plain": [
       "(90, 3)"
      ]
     },
     "execution_count": 114,
     "metadata": {},
     "output_type": "execute_result"
    }
   ],
   "source": [
    "ens_x.shape"
   ]
  },
  {
   "cell_type": "code",
   "execution_count": 115,
   "metadata": {},
   "outputs": [
    {
     "data": {
      "text/plain": [
       "(90,)"
      ]
     },
     "execution_count": 115,
     "metadata": {},
     "output_type": "execute_result"
    }
   ],
   "source": [
    "ens_y.shape"
   ]
  },
  {
   "cell_type": "code",
   "execution_count": 123,
   "metadata": {},
   "outputs": [],
   "source": [
    "ada_model = AdaBoostClassifier()\n",
    "\n",
    "ada_model.fit(ens_x, ens_y)\n",
    "\n",
    "\n",
    "ens_x_pred = ensemble_predictions(models, X_test)"
   ]
  },
  {
   "cell_type": "code",
   "execution_count": 125,
   "metadata": {},
   "outputs": [],
   "source": [
    "y_pred_ada = ada_model.predict(np.array(ens_x_pred).T)"
   ]
  },
  {
   "cell_type": "code",
   "execution_count": 129,
   "metadata": {},
   "outputs": [
    {
     "data": {
      "text/plain": [
       "(60,)"
      ]
     },
     "execution_count": 129,
     "metadata": {},
     "output_type": "execute_result"
    }
   ],
   "source": [
    "y_pred_ada.shape"
   ]
  },
  {
   "cell_type": "code",
   "execution_count": 131,
   "metadata": {},
   "outputs": [
    {
     "data": {
      "text/plain": [
       "(60,)"
      ]
     },
     "execution_count": 131,
     "metadata": {},
     "output_type": "execute_result"
    }
   ],
   "source": [
    "y_test.shape"
   ]
  },
  {
   "cell_type": "code",
   "execution_count": 133,
   "metadata": {},
   "outputs": [],
   "source": [
    "ada_accuracy = accuracy_score(y_test, y_pred_ada)\n",
    "ada_conf_matrix = confusion_matrix(y_test, y_pred_ada)"
   ]
  },
  {
   "cell_type": "code",
   "execution_count": 134,
   "metadata": {},
   "outputs": [
    {
     "name": "stdout",
     "output_type": "stream",
     "text": [
      "Ada-boost accuracy: 0.9666666666666667\n",
      "Ada-boost Confusion Matrix:\n",
      "[[18  0  0]\n",
      " [ 0 20  2]\n",
      " [ 0  0 20]]\n"
     ]
    }
   ],
   "source": [
    "print(\"Ada-boost accuracy:\", ada_accuracy)\n",
    "print(\"Ada-boost Confusion Matrix:\")\n",
    "print(ada_conf_matrix)"
   ]
  }
 ],
 "metadata": {
  "kernelspec": {
   "display_name": "Python 3.10.5 64-bit",
   "language": "python",
   "name": "python3"
  },
  "language_info": {
   "codemirror_mode": {
    "name": "ipython",
    "version": 3
   },
   "file_extension": ".py",
   "mimetype": "text/x-python",
   "name": "python",
   "nbconvert_exporter": "python",
   "pygments_lexer": "ipython3",
   "version": "3.10.5"
  },
  "orig_nbformat": 4,
  "vscode": {
   "interpreter": {
    "hash": "e7d4d1fdefab968d87dae697830712be305784682ed311731942beb8000e292d"
   }
  }
 },
 "nbformat": 4,
 "nbformat_minor": 2
}
